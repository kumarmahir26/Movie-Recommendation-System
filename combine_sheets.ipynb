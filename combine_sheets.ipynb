{
 "cells": [
  {
   "cell_type": "markdown",
   "id": "b30a3322",
   "metadata": {},
   "source": [
    "#### The webscrapping.ipynb can only scrap one language movies at once. So I am combining them from here\n"
   ]
  },
  {
   "cell_type": "code",
   "execution_count": 6,
   "id": "3a21ab33",
   "metadata": {},
   "outputs": [
    {
     "data": {
      "text/plain": [
       "['Hindi_movies.csv',\n",
       " 'Kannada_movies.csv',\n",
       " 'Malyalam_movies.csv',\n",
       " 'Tamil_movies.csv',\n",
       " 'Telgu_movies.csv']"
      ]
     },
     "execution_count": 6,
     "metadata": {},
     "output_type": "execute_result"
    }
   ],
   "source": [
    "import os\n",
    "import pandas as pd\n",
    "\n",
    "# Get the list of CSV files in the current directory\n",
    "csv_files = [file for file in os.listdir() if file.endswith('.csv')]\n",
    "csv_files"
   ]
  },
  {
   "cell_type": "code",
   "execution_count": 2,
   "id": "727b6d47",
   "metadata": {},
   "outputs": [
    {
     "data": {
      "text/plain": [
       "'Hindi'"
      ]
     },
     "execution_count": 2,
     "metadata": {},
     "output_type": "execute_result"
    }
   ],
   "source": [
    "file=csv_files[0]\n",
    "file.split('_')[0]"
   ]
  },
  {
   "cell_type": "code",
   "execution_count": 7,
   "id": "66e24ae0",
   "metadata": {},
   "outputs": [],
   "source": [
    "# Initialize an empty list to store DataFrames\n",
    "dfs = []\n",
    "\n",
    "# Read each CSV file, add a 'Filename' column, and append to the list\n",
    "for file in csv_files:\n",
    "    df = pd.read_csv(file)\n",
    "#     df['Filename'] = file.split('_')[0]  # Add a column with the filename\n",
    "    dfs.append(df)\n",
    "\n",
    "# Concatenate the list of DataFrames into a single DataFrame\n",
    "combined_df = pd.concat(dfs, ignore_index=True)\n",
    "\n"
   ]
  },
  {
   "cell_type": "code",
   "execution_count": 8,
   "id": "ff10556b",
   "metadata": {},
   "outputs": [
    {
     "data": {
      "text/html": [
       "<div>\n",
       "<style scoped>\n",
       "    .dataframe tbody tr th:only-of-type {\n",
       "        vertical-align: middle;\n",
       "    }\n",
       "\n",
       "    .dataframe tbody tr th {\n",
       "        vertical-align: top;\n",
       "    }\n",
       "\n",
       "    .dataframe thead th {\n",
       "        text-align: right;\n",
       "    }\n",
       "</style>\n",
       "<table border=\"1\" class=\"dataframe\">\n",
       "  <thead>\n",
       "    <tr style=\"text-align: right;\">\n",
       "      <th></th>\n",
       "      <th>Name</th>\n",
       "      <th>Year</th>\n",
       "      <th>Duration</th>\n",
       "      <th>Rating</th>\n",
       "      <th>Votes</th>\n",
       "      <th>Description</th>\n",
       "      <th>language</th>\n",
       "    </tr>\n",
       "  </thead>\n",
       "  <tbody>\n",
       "    <tr>\n",
       "      <th>0</th>\n",
       "      <td>Sam Bahadur</td>\n",
       "      <td>2023</td>\n",
       "      <td>2h 30m</td>\n",
       "      <td>8.2</td>\n",
       "      <td>8.9K</td>\n",
       "      <td>Revolves around the high and low points of Sam...</td>\n",
       "      <td>Hindi</td>\n",
       "    </tr>\n",
       "    <tr>\n",
       "      <th>1</th>\n",
       "      <td>Animal</td>\n",
       "      <td>2023</td>\n",
       "      <td>3h 24m</td>\n",
       "      <td>6.8</td>\n",
       "      <td>64K</td>\n",
       "      <td>A father, who is often away due to work, is un...</td>\n",
       "      <td>Hindi</td>\n",
       "    </tr>\n",
       "    <tr>\n",
       "      <th>2</th>\n",
       "      <td>Starfish</td>\n",
       "      <td>2023</td>\n",
       "      <td>2h 1m</td>\n",
       "      <td>8.9</td>\n",
       "      <td>16K</td>\n",
       "      <td>Beautiful journey through the depths of the un...</td>\n",
       "      <td>Hindi</td>\n",
       "    </tr>\n",
       "    <tr>\n",
       "      <th>3</th>\n",
       "      <td>Farrey</td>\n",
       "      <td>2023</td>\n",
       "      <td>2h 10m</td>\n",
       "      <td>8.7</td>\n",
       "      <td>5.8K</td>\n",
       "      <td>After gaining admission into an elite school o...</td>\n",
       "      <td>Hindi</td>\n",
       "    </tr>\n",
       "    <tr>\n",
       "      <th>4</th>\n",
       "      <td>Kadak Singh</td>\n",
       "      <td>2023</td>\n",
       "      <td>2h 8m</td>\n",
       "      <td>6.8</td>\n",
       "      <td>5.1K</td>\n",
       "      <td>AK Srivastava an officer of the Department of ...</td>\n",
       "      <td>Hindi</td>\n",
       "    </tr>\n",
       "    <tr>\n",
       "      <th>...</th>\n",
       "      <td>...</td>\n",
       "      <td>...</td>\n",
       "      <td>...</td>\n",
       "      <td>...</td>\n",
       "      <td>...</td>\n",
       "      <td>...</td>\n",
       "      <td>...</td>\n",
       "    </tr>\n",
       "    <tr>\n",
       "      <th>9175</th>\n",
       "      <td>Premaabhishekam</td>\n",
       "      <td>1981</td>\n",
       "      <td>2h 35m</td>\n",
       "      <td>7.8</td>\n",
       "      <td>122</td>\n",
       "      <td>Rajesh loves Devi but discovers that he has ca...</td>\n",
       "      <td>Telgu</td>\n",
       "    </tr>\n",
       "    <tr>\n",
       "      <th>9176</th>\n",
       "      <td>Sardar Papa Rayudu</td>\n",
       "      <td>1980</td>\n",
       "      <td>2h 31m</td>\n",
       "      <td>6.8</td>\n",
       "      <td>138</td>\n",
       "      <td>Paparayudu gets jailed for a murder that he di...</td>\n",
       "      <td>Telgu</td>\n",
       "    </tr>\n",
       "    <tr>\n",
       "      <th>9177</th>\n",
       "      <td>Superman</td>\n",
       "      <td>1980</td>\n",
       "      <td>2h 15m</td>\n",
       "      <td>4.4</td>\n",
       "      <td>217</td>\n",
       "      <td>An orphaned boy is granted superpowers after p...</td>\n",
       "      <td>Telgu</td>\n",
       "    </tr>\n",
       "    <tr>\n",
       "      <th>9178</th>\n",
       "      <td>Punnami Naagu</td>\n",
       "      <td>1980</td>\n",
       "      <td>2h 10m</td>\n",
       "      <td>7.4</td>\n",
       "      <td>103</td>\n",
       "      <td>Naagulu is forced to consume poison since chil...</td>\n",
       "      <td>Telgu</td>\n",
       "    </tr>\n",
       "    <tr>\n",
       "      <th>9179</th>\n",
       "      <td>Sankarabharanam</td>\n",
       "      <td>1980</td>\n",
       "      <td>2h 23m</td>\n",
       "      <td>8.9</td>\n",
       "      <td>2.5K</td>\n",
       "      <td>The story of a rare and exceptional bond betwe...</td>\n",
       "      <td>Telgu</td>\n",
       "    </tr>\n",
       "  </tbody>\n",
       "</table>\n",
       "<p>9180 rows × 7 columns</p>\n",
       "</div>"
      ],
      "text/plain": [
       "                    Name  Year Duration  Rating Votes  \\\n",
       "0            Sam Bahadur  2023   2h 30m     8.2  8.9K   \n",
       "1                 Animal  2023   3h 24m     6.8   64K   \n",
       "2               Starfish  2023    2h 1m     8.9   16K   \n",
       "3                 Farrey  2023   2h 10m     8.7  5.8K   \n",
       "4            Kadak Singh  2023    2h 8m     6.8  5.1K   \n",
       "...                  ...   ...      ...     ...   ...   \n",
       "9175     Premaabhishekam  1981   2h 35m     7.8   122   \n",
       "9176  Sardar Papa Rayudu  1980   2h 31m     6.8   138   \n",
       "9177            Superman  1980   2h 15m     4.4   217   \n",
       "9178       Punnami Naagu  1980   2h 10m     7.4   103   \n",
       "9179     Sankarabharanam  1980   2h 23m     8.9  2.5K   \n",
       "\n",
       "                                            Description language  \n",
       "0     Revolves around the high and low points of Sam...    Hindi  \n",
       "1     A father, who is often away due to work, is un...    Hindi  \n",
       "2     Beautiful journey through the depths of the un...    Hindi  \n",
       "3     After gaining admission into an elite school o...    Hindi  \n",
       "4     AK Srivastava an officer of the Department of ...    Hindi  \n",
       "...                                                 ...      ...  \n",
       "9175  Rajesh loves Devi but discovers that he has ca...    Telgu  \n",
       "9176  Paparayudu gets jailed for a murder that he di...    Telgu  \n",
       "9177  An orphaned boy is granted superpowers after p...    Telgu  \n",
       "9178  Naagulu is forced to consume poison since chil...    Telgu  \n",
       "9179  The story of a rare and exceptional bond betwe...    Telgu  \n",
       "\n",
       "[9180 rows x 7 columns]"
      ]
     },
     "execution_count": 8,
     "metadata": {},
     "output_type": "execute_result"
    }
   ],
   "source": [
    "combined_df"
   ]
  },
  {
   "cell_type": "code",
   "execution_count": 9,
   "id": "0805e94a",
   "metadata": {},
   "outputs": [],
   "source": [
    "combined_df.to_csv('Indian_movie_Dataset.csv', index=False)"
   ]
  },
  {
   "cell_type": "code",
   "execution_count": null,
   "id": "29cf7dc9",
   "metadata": {},
   "outputs": [],
   "source": []
  }
 ],
 "metadata": {
  "kernelspec": {
   "display_name": "Python 3 (ipykernel)",
   "language": "python",
   "name": "python3"
  },
  "language_info": {
   "codemirror_mode": {
    "name": "ipython",
    "version": 3
   },
   "file_extension": ".py",
   "mimetype": "text/x-python",
   "name": "python",
   "nbconvert_exporter": "python",
   "pygments_lexer": "ipython3",
   "version": "3.10.9"
  }
 },
 "nbformat": 4,
 "nbformat_minor": 5
}
