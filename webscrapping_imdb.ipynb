{
 "cells": [
  {
   "cell_type": "code",
   "execution_count": null,
   "id": "5b2ab51a",
   "metadata": {},
   "outputs": [],
   "source": [
    "from selenium import webdriver\n",
    "from selenium.webdriver.common.by import By\n",
    "from selenium.webdriver.common.keys import Keys\n",
    "from selenium.webdriver.common.action_chains import ActionChains\n",
    "import time\n",
    "import re\n",
    "import pandas as pd\n",
    "\n",
    "import requests       #to send the request to the URL\n",
    "from bs4 import BeautifulSoup #to get the content in the form of HTML\n",
    "\n",
    "# Set the path to the Microsoft Edge WebDriver executable\n",
    "# Download the appropriate version from: https://developer.microsoft.com/en-us/microsoft-edge/tools/webdriver/\n",
    "edge_driver_path = 'D:/Downloads/edgedriver_win64/msedgedriver.exe'\n",
    "driver = webdriver.Edge()"
   ]
  },
  {
   "cell_type": "code",
   "execution_count": null,
   "id": "c0a26e5e",
   "metadata": {},
   "outputs": [],
   "source": [
    "# Open the IMDb webpage with the list of movies\n",
    "# Advanced search, filters(release date:1980-2023, title_type:Movie, lang=kn (for kannada))\n",
    "url='https://www.imdb.com/search/title/?title_type=feature&release_date=1980-01-01,2023-12-01&sort=release_date,desc&num_votes=100,&primary_language=kn'\n",
    "driver.get(url)"
   ]
  },
  {
   "cell_type": "code",
   "execution_count": null,
   "id": "2955bd9b",
   "metadata": {
    "scrolled": true
   },
   "outputs": [],
   "source": [
    "s=0\n",
    "npages=(3200//50)+1\n",
    "# npages=1\n",
    "\n",
    "flag=0\n",
    "while s<npages and flag<50:\n",
    "    try:\n",
    "        button = driver.find_element(By.CLASS_NAME,'ipc-see-more__button')\n",
    "        button.click()\n",
    "        s+=1\n",
    "        print(s)\n",
    "        flag=0\n",
    "        time.sleep(1)\n",
    "\n",
    "    except Exception as e:\n",
    "        flag+=1\n",
    "        print(f\"{flag}Error clicking the button\")"
   ]
  },
  {
   "cell_type": "code",
   "execution_count": null,
   "id": "16c6a854",
   "metadata": {},
   "outputs": [],
   "source": [
    "import requests       #to send the request to the URL\n",
    "from bs4 import BeautifulSoup #to get the content in the form of HTML\n",
    "\n",
    "page_source = driver.page_source\n",
    "soup = BeautifulSoup(page_source, 'html.parser')\n",
    "\n",
    "movie_data = soup.findAll( attrs= {'class': 'ipc-metadata-list-summary-item'})\n",
    "movie_data"
   ]
  },
  {
   "cell_type": "code",
   "execution_count": null,
   "id": "8692a9f7",
   "metadata": {},
   "outputs": [],
   "source": [
    "len(movie_data)"
   ]
  },
  {
   "cell_type": "code",
   "execution_count": null,
   "id": "a1109750",
   "metadata": {
    "scrolled": true
   },
   "outputs": [],
   "source": [
    "import re\n",
    "import pandas as pd\n",
    "movie_df=pd.DataFrame()\n",
    "\n",
    "for e in movie_data:\n",
    "    try:\n",
    "        movie_name='NA'\n",
    "        year='NA'\n",
    "        duration='NA'\n",
    "        rating='NA'\n",
    "        vote_cnt='NA'\n",
    "        summary='NA'\n",
    "        \n",
    "        original_string=e.h3.text\n",
    "        split_parts = original_string.split('. ')\n",
    "        movie_name = split_parts[1] #if len(split_parts) > 1 else original_string\n",
    "        \n",
    "        year_duration=e.find_all('span', class_='sc-1e00898e-8 hsHAHC dli-title-metadata-item')\n",
    "        year=year_duration[0].text\n",
    "        if len(year_duration)>1:\n",
    "            duration=year_duration[1].text\n",
    "        \n",
    "        input_string=e.find('span', class_='ipc-rating-star ipc-rating-star--base ipc-rating-star--imdb ratingGroup--imdb-rating').text\n",
    "        pattern = r'([^\\xa0]+)\\xa0\\(([^\\)]+)\\)'\n",
    "        match = re.search(pattern, input_string)\n",
    "        if match:\n",
    "            rating = match.group(1)\n",
    "            vote_cnt = match.group(2)\n",
    "        para=e.find('div', class_='sc-73c670dc-2 djRAjt').text\n",
    "        index_of_votes = para.rfind('Votes')\n",
    "        \n",
    "        if index_of_votes != -1:\n",
    "            summary = para[:index_of_votes]\n",
    "        else:\n",
    "            print(\"The paragraph does not contain 'Votes'.\")\n",
    "\n",
    "        temp_df={'Name':[movie_name],'Year':[year],'Duration':[duration],'Rating':[rating],'Votes':[vote_cnt],'Description':[summary]}\n",
    "        temp_df=pd.DataFrame(temp_df)\n",
    "        movie_df=pd.concat([movie_df,temp_df])\n",
    "    except :\n",
    "        print('failed')\n",
    "    \n",
    "movie_df"
   ]
  },
  {
   "cell_type": "code",
   "execution_count": null,
   "id": "d7de5d2b",
   "metadata": {},
   "outputs": [],
   "source": [
    "movie_df['language']='Hindi'"
   ]
  },
  {
   "cell_type": "code",
   "execution_count": null,
   "id": "a6d8899f",
   "metadata": {
    "scrolled": false
   },
   "outputs": [],
   "source": [
    "movie_df"
   ]
  },
  {
   "cell_type": "markdown",
   "id": "256eaaac",
   "metadata": {},
   "source": [
    "#### Save this to csv"
   ]
  },
  {
   "cell_type": "code",
   "execution_count": null,
   "id": "e48572ac",
   "metadata": {},
   "outputs": [],
   "source": [
    "movie_df.to_csv('kannada_movies.csv',index=False)"
   ]
  }
 ],
 "metadata": {
  "kernelspec": {
   "display_name": "Python 3 (ipykernel)",
   "language": "python",
   "name": "python3"
  },
  "language_info": {
   "codemirror_mode": {
    "name": "ipython",
    "version": 3
   },
   "file_extension": ".py",
   "mimetype": "text/x-python",
   "name": "python",
   "nbconvert_exporter": "python",
   "pygments_lexer": "ipython3",
   "version": "3.10.9"
  }
 },
 "nbformat": 4,
 "nbformat_minor": 5
}
